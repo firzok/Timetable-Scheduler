{
 "cells": [
  {
   "cell_type": "code",
   "execution_count": 44,
   "metadata": {},
   "outputs": [],
   "source": [
    "import xlrd\n",
    "import os.path\n",
    "import random\n",
    "import numpy as np\n",
    "import pandas as pd\n",
    "import math\n",
    "import random\n",
    "from collections import defaultdict\n",
    "import time"
   ]
  },
  {
   "cell_type": "code",
   "execution_count": 4,
   "metadata": {},
   "outputs": [],
   "source": [
    "def crossover(chromosome1, chromosome2):\n",
    "    \n",
    "    child1 = []\n",
    "    child2 = []\n",
    "    for i in range(len(chromosome1)):\n",
    "        \n",
    "        if random.randint(0,1) == 1:\n",
    "            child1.append(chromosome2[i])\n",
    "            child2.append(chromosome1[i])\n",
    "        else:\n",
    "            child1.append(chromosome1[i])\n",
    "            child2.append(chromosome2[i])\n",
    "    \n",
    "    \n",
    "    return child1, child2"
   ]
  },
  {
   "cell_type": "code",
   "execution_count": 37,
   "metadata": {},
   "outputs": [
    {
     "name": "stdout",
     "output_type": "stream",
     "text": [
      "([21, 2, 3, 4, 25, 26, 7, 28, 9], [1, 22, 23, 24, 5, 6, 27, 8, 29])\n"
     ]
    }
   ],
   "source": [
    "print(crossover([1,2,3,4,5,6,7,8,9], [21,22,23,24,25,26,27,28,29]))"
   ]
  },
  {
   "cell_type": "code",
   "execution_count": 43,
   "metadata": {},
   "outputs": [
    {
     "name": "stdout",
     "output_type": "stream",
     "text": [
      "[9, 6, 5, 1, 3, 2, 4, 8, 7]\n"
     ]
    }
   ],
   "source": [
    "from random import shuffle\n",
    "a=[1,2,3,4,5,6,7,8,9]\n",
    "shuffle(a)\n",
    "print(a)"
   ]
  },
  {
   "cell_type": "code",
   "execution_count": 67,
   "metadata": {},
   "outputs": [
    {
     "name": "stdout",
     "output_type": "stream",
     "text": [
      "[]\n"
     ]
    }
   ],
   "source": [
    "d=defaultdict(int)\n",
    "d[\"teacherClashesVoilation\"]=0\n",
    "d[\"SameSectionClashes\"]=0\n",
    "d[\"TimeClashesVoilation\"]=0\n",
    "d[\"FridayVoilation\"]=0\n",
    "Softconstraints=[]\n",
    "print(Softconstraints)\n",
    "\n",
    "# import csv\n",
    "\n",
    "# with open('mycsvfile.csv', 'wb') as f:  # Just use 'w' mode in 3.x\n",
    "#     w = csv.DictWriter(f, d.keys())\n",
    "#     w.writeheader()\n",
    "#     w.writerow(my_dict)\n",
    "# print(Softconstraints)\n",
    "# print(d.keys())\n",
    "# df1=pd.DataFrame(data = d)\n",
    "# df1.index = d.keys()\n",
    "# df1.to_csv(\"constraints.csv\")"
   ]
  },
  {
   "cell_type": "code",
   "execution_count": 68,
   "metadata": {},
   "outputs": [],
   "source": [
    "df=pd.DataFrame(data = d, index=[\"Hard Constraints\"])\n",
    "df.to_csv(\"Hard Constraints.csv\")"
   ]
  },
  {
   "cell_type": "code",
   "execution_count": null,
   "metadata": {},
   "outputs": [],
   "source": []
  }
 ],
 "metadata": {
  "kernelspec": {
   "display_name": "Python 3",
   "language": "python",
   "name": "python3"
  },
  "language_info": {
   "codemirror_mode": {
    "name": "ipython",
    "version": 3
   },
   "file_extension": ".py",
   "mimetype": "text/x-python",
   "name": "python",
   "nbconvert_exporter": "python",
   "pygments_lexer": "ipython3",
   "version": "3.7.0"
  }
 },
 "nbformat": 4,
 "nbformat_minor": 2
}
