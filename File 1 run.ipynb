{
 "cells": [
  {
   "cell_type": "code",
   "execution_count": null,
   "metadata": {},
   "outputs": [],
   "source": [
    "import xlrd\n",
    "import os.path\n",
    "import random\n",
    "import numpy as np\n",
    "import pandas as pd\n",
    "import math\n",
    "import random\n",
    "from collections import defaultdict\n",
    "import time\n",
    "from random import shuffle"
   ]
  },
  {
   "cell_type": "markdown",
   "metadata": {},
   "source": [
    "# File Reading"
   ]
  },
  {
   "cell_type": "code",
   "execution_count": null,
   "metadata": {},
   "outputs": [],
   "source": [
    "df = pd.read_csv(os.path.join('/Users/firzoknadeem/Desktop/University Files/AI/Project','Test Case 1.csv') , header=None)"
   ]
  },
  {
   "cell_type": "code",
   "execution_count": null,
   "metadata": {},
   "outputs": [],
   "source": [
    "df_obj = df.select_dtypes(['object'])\n",
    "\n",
    "df[df_obj.columns] = df_obj.apply(lambda x: x.str.strip())"
   ]
  },
  {
   "cell_type": "code",
   "execution_count": null,
   "metadata": {},
   "outputs": [],
   "source": [
    "df"
   ]
  },
  {
   "cell_type": "markdown",
   "metadata": {},
   "source": [
    "# Data Extraction"
   ]
  },
  {
   "cell_type": "code",
   "execution_count": null,
   "metadata": {},
   "outputs": [],
   "source": [
    "totalColumns = df.shape[1]"
   ]
  },
  {
   "cell_type": "code",
   "execution_count": null,
   "metadata": {},
   "outputs": [],
   "source": [
    "#searching for the starting of the row data\n",
    "rowStart = 0\n",
    "courseStart='C1'\n",
    "found = False\n",
    "for i in range(0, df.shape[0]):\n",
    "    for j in range(df.shape[1]):\n",
    "        val = df.values[i][j]\n",
    "        if val == courseStart:\n",
    "            found = True\n",
    "            break\n",
    "    if found:\n",
    "        break\n",
    "rowStart = i\n",
    "print (\"rowStart\", i) #---> sample data starting from this row\n",
    "\n",
    "#getting the courses names\n",
    "courses = []\n",
    "noCourses = totalColumns-1\n",
    "for k in range(totalColumns):\n",
    "    val = df.values[rowStart, k]\n",
    "    if val == val:#Check for nan\n",
    "        courses.append(val)\n",
    "print (\"courses\", courses)\n",
    "rowStart += 1\n",
    "print (\"rowStart\", rowStart) #---> sample data starting from this row"
   ]
  },
  {
   "cell_type": "code",
   "execution_count": null,
   "metadata": {},
   "outputs": [],
   "source": [
    "#finding exact number of rows that have the value i.e. data of corresponding teacher and section\n",
    "totalRows = 0 #----> has the total number of rows that contains data\n",
    "rowList = [] #contains the integer values of rows\n",
    "p = 'Preferences'\n",
    "found = False\n",
    "for i in range(rowStart, df.shape[0]):\n",
    "    for j in range(df.shape[1]):\n",
    "        val = df.values[i][j]\n",
    "        if val == p:\n",
    "            found = True\n",
    "    if found:\n",
    "        break\n",
    "    rowList.append(i)\n",
    "\n",
    "totalRows = len(rowList)\n",
    "print (\"totalRows\", totalRows)\n",
    "print (\"rowList\", rowList)"
   ]
  },
  {
   "cell_type": "code",
   "execution_count": null,
   "metadata": {},
   "outputs": [],
   "source": [
    "totalClassesInWeek = int(df.values[0, 1])\n",
    "\n",
    "teacherCount = int(df.values[1, 1])\n",
    "\n",
    "roomCount = int(df.values[2, 1])\n",
    "\n",
    "groupCount = int(df.values[3, 1])"
   ]
  },
  {
   "cell_type": "code",
   "execution_count": null,
   "metadata": {},
   "outputs": [],
   "source": [
    "#Getting all teachers preferences in tuples\n",
    "\n",
    "startPreferenceIndex = df.loc[df[0] == 'Preferences'].index[0] + 1    # getting the starting index of teacher's preference\n",
    "teacherPreference = {}\n",
    "for i in range(startPreferenceIndex,df.shape[0]):\n",
    "    teacherPreference[df.values[i,0]] = df.values[i,1]"
   ]
  },
  {
   "cell_type": "markdown",
   "metadata": {},
   "source": [
    "# Creation of Chromosome"
   ]
  },
  {
   "cell_type": "code",
   "execution_count": null,
   "metadata": {},
   "outputs": [],
   "source": [
    "class gene:\n",
    "    def __init__(self, day, room, time):\n",
    "        self.day = day\n",
    "        self.room = room\n",
    "        self.time = float(time)"
   ]
  },
  {
   "cell_type": "code",
   "execution_count": null,
   "metadata": {},
   "outputs": [],
   "source": [
    "class slot:# Used as a hash table e.g BatchCS16_A$C1$T1$1\n",
    "    def __init__(self, group, course, teacher, duration):\n",
    "        self.group = group\n",
    "        self.course = course\n",
    "        self.teacher = teacher\n",
    "        self.duration = float(duration)"
   ]
  },
  {
   "cell_type": "code",
   "execution_count": null,
   "metadata": {},
   "outputs": [],
   "source": [
    "#hashtable for chromosomes\n",
    "#all possible classes for groups and courses\n",
    "slots = []\n",
    "for i in range(rowStart, rowStart + totalRows, 2):\n",
    "\n",
    "    for j, c in enumerate(courses):\n",
    "#         Group Course Teacher Credit Hour\n",
    "        val = slot(str(df.values[i,0].strip()), str(c), str(df.values[i, j+1].strip()), str(df.values[i+1, j+1]))\n",
    "        slots.append(val)\n",
    "        slots.append(val)\n",
    "        \n",
    "        if float(df.values[i+1, j+1])==1:\n",
    "            slots.append(val)"
   ]
  },
  {
   "cell_type": "code",
   "execution_count": null,
   "metadata": {},
   "outputs": [],
   "source": [
    "#Possible values for chromosomes e.g Mon_1_8.5\n",
    "\n",
    "days = [\"Mon\", \"Tue\", \"Wed\", \"Thu\", \"Fri\"]\n",
    "rooms = list(range(1, roomCount+1))\n",
    "startTime = np.arange(9, 17, 1)\n",
    "\n",
    "day_room_time = []\n",
    "for d in days:\n",
    "    for r in rooms:\n",
    "        for s in startTime:\n",
    "            \n",
    "            if ((d == 'Fri') and (s == 13)):#Dont add the timings of Friday Prayer (CSP)\n",
    "                continue\n",
    "            \n",
    "            val = gene(day=d, room=r, time=s)\n",
    "\n",
    "            day_room_time.append(val)"
   ]
  },
  {
   "cell_type": "markdown",
   "metadata": {},
   "source": [
    "# Initial population"
   ]
  },
  {
   "cell_type": "code",
   "execution_count": null,
   "metadata": {
    "scrolled": false
   },
   "outputs": [],
   "source": [
    "#First population\n",
    "#Now randomly placing classes in chromosome and adding to population array\n",
    "def generateFirstPopulation(populationSize = 500):\n",
    "    population = []\n",
    "    possibleValues = day_room_time.copy()\n",
    "    for i in range(populationSize):\n",
    "        chromosome = []\n",
    "        possibleValues = day_room_time.copy()\n",
    "        for j in range(len(slots)):\n",
    "            chromosome.append(possibleValues.pop(random.randint(0, len(possibleValues)-1)))\n",
    "        population.append(chromosome)\n",
    "    return population"
   ]
  },
  {
   "cell_type": "code",
   "execution_count": null,
   "metadata": {},
   "outputs": [],
   "source": [
    "# Getting all indexes in hashtable for all teachers\n",
    "\n",
    "teacherSlots = defaultdict(list)\n",
    "for i in range(0,len(slots)):\n",
    "\n",
    "    teacherSlots[slots[i].teacher].append(i)"
   ]
  },
  {
   "cell_type": "code",
   "execution_count": null,
   "metadata": {},
   "outputs": [],
   "source": [
    "# Used to display number and type of constraints \n",
    "hardConstraintsDict = defaultdict(int)\n",
    "softConstraintsDict = defaultdict(int)"
   ]
  },
  {
   "cell_type": "code",
   "execution_count": null,
   "metadata": {},
   "outputs": [],
   "source": [
    "dayConstraint = \"Fri\"\n",
    "dayConstraintGroup = 'BatchCS16_A'"
   ]
  },
  {
   "cell_type": "markdown",
   "metadata": {},
   "source": [
    "# Fitness Function"
   ]
  },
  {
   "cell_type": "code",
   "execution_count": null,
   "metadata": {},
   "outputs": [],
   "source": [
    "\n",
    "def calculateFitness(chromosome, checkSoftConstraint = True, checkTeacherPreference = True):\n",
    "    \n",
    "    softConstraintDelta = 1\n",
    "    hardConstraintDelta = 5\n",
    "    \n",
    "    fitness = 5000\n",
    "    \n",
    "    for i in range(len(chromosome)):\n",
    "        \n",
    "        chromo = chromosome[i]\n",
    "    \n",
    "        day = chromo.day\n",
    "        room = chromo.room\n",
    "        startTime = chromo.time\n",
    "\n",
    "        #Teacher constraints\n",
    "        \n",
    "        s = slots[i]\n",
    "\n",
    "        teacher = s.teacher\n",
    "        duration = s.duration\n",
    "        group = s.group\n",
    "        teaches = teacherSlots[teacher] #getting list of slots in which teacher teaches\n",
    "        \n",
    "        teacherPreferenceVoilation = 0\n",
    "        teacherClashesVoilation = 0\n",
    "        teacherConsecutiveVoilation=0\n",
    "        RoomClashesVoilation = 0\n",
    "        FridayVoilation = 0\n",
    "        \n",
    "        try:\n",
    "            if teacherPreference[teacher] == 'm':\n",
    "                if startTime + duration >= 13:\n",
    "                    \n",
    "                    softConstraintsDict[\"teacherPreferenceVoilation\"] +=1\n",
    "                    fitness -= softConstraintDelta\n",
    "                    \n",
    "            elif teacherPreference[teacher] == 'e':\n",
    "                if startTime + duration <= 13:\n",
    "\n",
    "                    softConstraintsDict[\"teacherPreferenceVoilation\"] +=1\n",
    "                    fitness -= softConstraintDelta\n",
    "                    \n",
    "        except:\n",
    "            pass\n",
    "        \n",
    "        for t in teaches:\n",
    "            if t != i:#so that it does not test with itself\n",
    "                \n",
    "                #test data\n",
    "                testChromo = chromosome[t]\n",
    "                \n",
    "                tday = testChromo.day\n",
    "                troom = testChromo.room\n",
    "                tstartTime = testChromo.time\n",
    "            \n",
    "                if tday == day:\n",
    "                    if tstartTime == startTime: #teacher cant be at two places at the same time\n",
    "                        \n",
    "                        fitness -= hardConstraintDelta\n",
    "                        hardConstraintsDict[\"teacherClashesVoilation\"] += 1\n",
    "                        \n",
    "                    elif (startTime + duration == tstartTime) and checkSoftConstraint: #consecutive classes for teacher\n",
    "                        \n",
    "                        fitness -= softConstraintDelta\n",
    "                        softConstraintsDict[\"teacherConsecutiveVoilation\"] += 1\n",
    "        \n",
    "        \n",
    "        #Room constraints\n",
    "        \n",
    "        for j in range(len(chromosome)):\n",
    "            if i != j:\n",
    "                #test data\n",
    "                testChromo = chromosome[j]\n",
    "                testSlots= slots[j]\n",
    "                \n",
    "                tday = testChromo.day\n",
    "                troom = testChromo.room\n",
    "                tstartTime = testChromo.time\n",
    "                \n",
    "                tgroup = testSlots.group\n",
    "                tteacher = testSlots.teacher\n",
    "                tduration = testSlots.duration\n",
    "                \n",
    "                if tday == day:\n",
    "                    if (tgroup == group):\n",
    "                        if (tstartTime == startTime):\n",
    "                            fitness -= hardConstraintDelta\n",
    "                            hardConstraintsDict[\"SameSectionClashes\"] +=1\n",
    "                    if troom == room:\n",
    "                        if (startTime <= tstartTime < (startTime + duration)):\n",
    "                            fitness -= hardConstraintDelta\n",
    "                            hardConstraintsDict[\"TimeClashesVoilation\"] +=1\n",
    "                            \n",
    "        \n",
    "        #Friday Prayer Time 13-14\n",
    "        if day == \"Fri\":\n",
    "            if 13 <= startTime < 14:\n",
    "                fitness -= hardConstraintDelta\n",
    "                hardConstraintsDict[\"FridayVoilation\"] +=1\n",
    "#                 FridayVoilation = FridayVoilation + 1\n",
    "        \n",
    "#         if day == dayConstraint and group == dayConstraintGroup:\n",
    "#             softConstraintsDict[\"DayConstraint\"] += 1\n",
    "#             fitness -= hardConstraintDelta\n",
    "        \n",
    "        \n",
    "            \n",
    "    return fitness/5000   #return a probabilistic value"
   ]
  },
  {
   "cell_type": "markdown",
   "metadata": {},
   "source": [
    "# Crossover Function"
   ]
  },
  {
   "cell_type": "code",
   "execution_count": null,
   "metadata": {},
   "outputs": [],
   "source": [
    "def crossover(chromosome1, chromosome2):\n",
    "    \n",
    "    child1 = []\n",
    "    child2 = []\n",
    "    for i in range(len(chromosome1)):\n",
    "        \n",
    "        if random.randint(0,1) == 1:\n",
    "            child1.append(chromosome2[i])\n",
    "            child2.append(chromosome1[i])\n",
    "        else:\n",
    "            child1.append(chromosome1[i])\n",
    "            child2.append(chromosome2[i])\n",
    "    \n",
    "    \n",
    "    return child1, child2"
   ]
  },
  {
   "cell_type": "code",
   "execution_count": null,
   "metadata": {},
   "outputs": [],
   "source": [
    "# 2 Point Crossover function\n",
    "# def crossover(chromosome1, chromosome2):\n",
    "    \n",
    "#     splits = random.sample(range(1, len(chromosome1)-1), 2)\n",
    "#     splits=sorted(splits)\n",
    "#     child1 = chromosome1[0:splits[0]]\n",
    "#     child2 = chromosome2[0:splits[0]]\n",
    "    \n",
    "#     child1 = np.hstack([child1, chromosome2[splits[0]:splits[1]]])\n",
    "#     child2 = np.hstack([child2, chromosome1[splits[0]:splits[1]]])\n",
    "\n",
    "    \n",
    "#     child1 = np.hstack([child1, chromosome1[splits[1]:]])\n",
    "#     child2 = np.hstack([child2, chromosome2[splits[1]:]])  \n",
    "    \n",
    "#     return child1, child2"
   ]
  },
  {
   "cell_type": "markdown",
   "metadata": {},
   "source": [
    "# Mutation function"
   ]
  },
  {
   "cell_type": "code",
   "execution_count": null,
   "metadata": {},
   "outputs": [],
   "source": [
    "def mutation(chromosome, levelOfMutation = 0.01):\n",
    "    \n",
    "    returnChromo = chromosome.copy()\n",
    "    for i in range(len(returnChromo)):\n",
    "        \n",
    "        if random.uniform(0, 1) < levelOfMutation:\n",
    "            returnChromo[i] = day_room_time[random.randint(0, len(day_room_time)-1)]\n",
    "            \n",
    "    return returnChromo"
   ]
  },
  {
   "cell_type": "code",
   "execution_count": null,
   "metadata": {},
   "outputs": [],
   "source": []
  },
  {
   "cell_type": "code",
   "execution_count": null,
   "metadata": {},
   "outputs": [],
   "source": [
    "def nextGeneration(chromosome1, chromosome2):\n",
    "    child1, child2 = crossover(chromosome1, chromosome2)\n",
    "    \n",
    "    if random.uniform(0, 1) < 0.3:\n",
    "        child1 = mutation(child1)\n",
    "    if random.uniform(0, 1) < 0.3:\n",
    "        child2 = mutation(child2)\n",
    "    \n",
    "    \n",
    "    return child1, child2\n",
    "    "
   ]
  },
  {
   "cell_type": "markdown",
   "metadata": {},
   "source": [
    "# Genetic Algorithm"
   ]
  },
  {
   "cell_type": "code",
   "execution_count": null,
   "metadata": {
    "scrolled": true
   },
   "outputs": [],
   "source": [
    "t1 = time.time()\n",
    "population = generateFirstPopulation(populationSize=100)\n",
    "oldmaxFitness = -5000000\n",
    "newmaxFitness = -5000000\n",
    "\n",
    "generation = 0\n",
    "population.extend(bestPopulation)\n",
    "while True:\n",
    "    t2 = time.time()\n",
    "    generation+=1\n",
    "    print(generation)\n",
    "\n",
    "    fitnesses = []\n",
    "    for i in range(len(population)):\n",
    "        fitnesses.append(calculateFitness(population[i]))\n",
    "    fitnessinds = np.argsort(fitnesses)\n",
    "    sortedFitness = np.array(fitnesses)[fitnessinds][::-1]\n",
    "    sortedPopulation = np.array(population)[fitnessinds][::-1]\n",
    "\n",
    "    bestPopulation = sortedPopulation[0:50]\n",
    "\n",
    "    oldmaxFitness = newmaxFitness\n",
    "\n",
    "    newmaxFitness = sortedFitness[0]\n",
    "\n",
    "    print(sortedFitness[:10])\n",
    "    if (newmaxFitness >= 0.999):\n",
    "        print(newmaxFitness)\n",
    "        break\n",
    "    \n",
    "    nextPopulation = []\n",
    "    nextPopulation.extend(bestPopulation[0:10])\n",
    "    shuffle(bestPopulation)\n",
    "    for i in range(0, len(bestPopulation), 2):\n",
    "        a, b = nextGeneration(bestPopulation[i], bestPopulation[i+1])\n",
    "        nextPopulation.append(a)\n",
    "        nextPopulation.append(b)\n",
    "        nextPopulation.append(mutation(bestPopulation[i] , levelOfMutation = 0.2))\n",
    "    \n",
    "    \n",
    "    #sort the randoms and then add\n",
    "    f = []\n",
    "    newpop = generateFirstPopulation(populationSize=100)\n",
    "    for i in range(len(newpop)):\n",
    "        f.append(calculateFitness(newpop[i]))\n",
    "    fitnessinds = np.argsort(f)\n",
    "    sortedFitness = np.array(f)[fitnessinds][::-1]\n",
    "    sortedPopulation = np.array(newpop)[fitnessinds][::-1]\n",
    "    nextPopulation.extend(sortedPopulation[:10])\n",
    "\n",
    "    #add old best population by only doing mutation\n",
    "    population = nextPopulation\n",
    "    print(\"generation \"+str(generation)+\" took time: \"+str(time.time()-t2))\n",
    "\n",
    "\n",
    "print(\"Total time: \"+str(time.time()-t1))\n",
    "# Total time: 5329.4181208610535 old 669 generation"
   ]
  },
  {
   "cell_type": "code",
   "execution_count": null,
   "metadata": {},
   "outputs": [],
   "source": [
    "c = bestPopulation[0]\n",
    "print(calculateFitness(bestPopulation[0]))\n"
   ]
  },
  {
   "cell_type": "code",
   "execution_count": null,
   "metadata": {},
   "outputs": [],
   "source": [
    "day_room_time[0].time"
   ]
  },
  {
   "cell_type": "code",
   "execution_count": null,
   "metadata": {},
   "outputs": [],
   "source": [
    "for item_a, i in zip(slots, c):\n",
    "    print(item_a.group, item_a.course, item_a.teacher, item_a.duration)\n",
    "    print(i.day,i.room,i.time)"
   ]
  },
  {
   "cell_type": "code",
   "execution_count": null,
   "metadata": {},
   "outputs": [],
   "source": []
  },
  {
   "cell_type": "markdown",
   "metadata": {},
   "source": [
    "# Generate readable Timetable"
   ]
  },
  {
   "cell_type": "code",
   "execution_count": null,
   "metadata": {},
   "outputs": [],
   "source": [
    "def makeTimetable(chromosomes):\n",
    "    \n",
    "    roomNumbers = []\n",
    "    for i in range(roomCount):\n",
    "        roomNumbers.append(str(i+1))\n",
    "    \n",
    "    print(roomNumbers)\n",
    "    timetableArray =np.array([[\"______________________\"]*(len(startTime))]*roomCount*len(days))\n",
    "    print(timetableArray.shape)\n",
    "\n",
    "\n",
    "    for classIdx in range(0,len(chromosomes)):\n",
    "        \n",
    "        day = days.index(chromosomes[classIdx].day)\n",
    "\n",
    "        room = roomNumbers.index(str(chromosomes[classIdx].room))\n",
    "\n",
    "        time = np.where((startTime) == float(chromosomes[classIdx].time))[0][0]\n",
    "       \n",
    "        if timetableArray[(day*15)+room][time] == '______________________':\n",
    "            group = slots[classIdx].group\n",
    "            course = slots[classIdx].course\n",
    "            duration = slots[classIdx].duration\n",
    "            timetableArray[(day*15)+room][time] = str(group) + \"_\" + str(course)+ \"_\" + str(duration)\n",
    "\n",
    "    return timetableArray\n",
    "Timetable = makeTimetable(bestPopulation[0])\n",
    "print(calculateFitness(bestPopulation[0]))\n",
    "\n"
   ]
  },
  {
   "cell_type": "code",
   "execution_count": null,
   "metadata": {
    "scrolled": true
   },
   "outputs": [],
   "source": [
    "df=pd.DataFrame(data = Timetable)\n",
    "indice = []\n",
    "for i in range(roomCount):\n",
    "    indice.append(\"Room \"+ str(i+1))\n",
    "print(indice)\n",
    "indices = indice * 5 \n",
    "df.index = indices\n",
    "\n",
    "df.columns = [\"9:00-10:00\",\"10:00-11:00\",\"11:00-12:00\",\"12:00-1:00\",\"1:00-2:00\",\"2:00-3:00\",\"3:00-4:00\",\"4:00-5:00\"]\n"
   ]
  },
  {
   "cell_type": "code",
   "execution_count": null,
   "metadata": {},
   "outputs": [],
   "source": [
    "df.to_csv(\"TimeTable 5.csv\")"
   ]
  },
  {
   "cell_type": "code",
   "execution_count": null,
   "metadata": {},
   "outputs": [],
   "source": [
    "soft_Constraints=pd.DataFrame(data = softConstraintsDict, index=[\"Soft Constraints\"])\n",
    "soft_Constraints.to_csv(\"Soft Constraints.csv\")\n",
    "\n",
    "hard_Constraints=pd.DataFrame(data = hardConstraintsDict, index=[\"Hard Constraints\"])\n",
    "hard_Constraints.to_csv(\"Hard Constraints.csv\")"
   ]
  },
  {
   "cell_type": "code",
   "execution_count": null,
   "metadata": {},
   "outputs": [],
   "source": []
  }
 ],
 "metadata": {
  "kernelspec": {
   "display_name": "Python 3",
   "language": "python",
   "name": "python3"
  },
  "language_info": {
   "codemirror_mode": {
    "name": "ipython",
    "version": 3
   },
   "file_extension": ".py",
   "mimetype": "text/x-python",
   "name": "python",
   "nbconvert_exporter": "python",
   "pygments_lexer": "ipython3",
   "version": "3.7.0"
  }
 },
 "nbformat": 4,
 "nbformat_minor": 2
}
